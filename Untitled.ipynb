{
 "cells": [
  {
   "cell_type": "code",
   "execution_count": 1,
   "id": "0e38f853-247a-434a-9683-ac92b0a7146f",
   "metadata": {},
   "outputs": [
    {
     "name": "stdout",
     "output_type": "stream",
     "text": [
      "Week {i} was above the Average sales\n",
      "Week {i} was below the Average sales\n",
      "Week {i} was below the Average sales\n",
      "Week {i} was below the Average sales\n",
      "Week {i} was above the Average sales\n",
      "Week {i} was below the Average sales\n",
      "Week {i} was above the Average sales\n",
      "104.28571428571429\n"
     ]
    }
   ],
   "source": [
    "weekly_sales = [120, 85, 100, 90, 110, 95, 130]\n",
    "avg = sum(weekly_sales)/ len(weekly_sales)\n",
    "for i in weekly_sales:  \n",
    "    if i > avg: \n",
    "     print(\"Week {i} was above the Average sales\")\n",
    "    else:\n",
    "        print(\"Week {i} was below the Average sales\")\n",
    "\n",
    "print(avg)\n",
    "        "
   ]
  },
  {
   "cell_type": "code",
   "execution_count": 26,
   "id": "f86fb0c9-7d0c-49ee-aa27-a66001f0e64b",
   "metadata": {},
   "outputs": [
    {
     "name": "stdout",
     "output_type": "stream",
     "text": [
      "[(16, 20), (34, 42)]\n"
     ]
    }
   ],
   "source": [
    "# Question 2 - String Manipulation\n",
    "# A customer feedback string is provided:\n",
    "customer_feedback = \"\"\"The product was good but could be improved. I especially appreciated the customer support and fast response times.\"\"\"\n",
    "good_start = customer_feedback.find('good')\n",
    "good_end = good_start + len('good')\n",
    "\n",
    "improved_start = customer_feedback.find('improved')\n",
    "improved_end = improved_start + len('improved')\n",
    "\n",
    "positions = [(good_start, good_end), (improved_start, improved_end)]\n",
    "print(positions)\n",
    "# Find the first and last occurrence of the words 'good' and 'improved' in the feedback using string methods.\n",
    "# Store each position in a list as a tuple (start, end) for both words and print the list."
   ]
  },
  {
   "cell_type": "code",
   "execution_count": 28,
   "id": "17b6d38f-3404-49f1-8011-6299883cb6fd",
   "metadata": {},
   "outputs": [],
   "source": [
    "# Question 3 - Functions for Business Metrics\n",
    "# Define functions to calculate the following metrics, and call each function with sample values (use your student ID digits for customization).\n",
    "\n",
    "# 1. Net Profit Margin: Calculate as (Net Profit / Revenue) * 100.\n",
    "# 2. Customer Acquisition Cost (CAC): Calculate as (Total Marketing Cost / New Customers Acquired).\n",
    "# 3. Net Promoter Score (NPS): Calculate as (Promoters - Detractors) / Total Respondents * 100.\n",
    "# 4. Return on Investment (ROI): Calculate as (Net Gain from Investment / Investment Cost) * 100.\n",
    "\n",
    "#student ID = 740049251\n",
    "#net profit = 492\n",
    "# revenue = 7400\n",
    "#total marketing cost = 740\n",
    "#new customer = 49\n",
    "#promoters = 25\n",
    "#detracters = 1\n",
    "#total respondant = 74\n",
    "#net gains from investment = 49251\n",
    "#investment cost = 7400"
   ]
  },
  {
   "cell_type": "code",
   "execution_count": 55,
   "id": "075d93f1-9444-489d-8b97-a94cae0630b1",
   "metadata": {},
   "outputs": [],
   "source": [
    "def business_cal(net_profit, revenue, total_marketing_cost, new_customer, promoters, detractors, total_respondents, net_gains_from_investment, investment_cost):\n",
    "    # Calculate each metric\n",
    "    net_profit_margin = (net_profit / revenue) * 100\n",
    "    CAC = total_marketing_cost / new_customer\n",
    "    NPS = ((promoters - detractors) / total_respondents) * 100\n",
    "    ROI = (net_gains_from_investment / investment_cost) * 100\n",
    "    print(net_profit_margin)\n",
    "    print(CAC)\n",
    "    print(NPS)\n",
    "    print(ROI)"
   ]
  },
  {
   "cell_type": "code",
   "execution_count": 57,
   "id": "cada4e7d-eae9-40ba-99f0-348acd82ec05",
   "metadata": {},
   "outputs": [
    {
     "name": "stdout",
     "output_type": "stream",
     "text": [
      "6.648648648648649\n",
      "15.10204081632653\n",
      "32.432432432432435\n",
      "66.55405405405406\n"
     ]
    }
   ],
   "source": [
    "business_cal(\n",
    "    net_profit=492,\n",
    "    revenue=7400,\n",
    "    total_marketing_cost=740,\n",
    "    new_customer=49,\n",
    "    promoters=25,\n",
    "    detractors=1,\n",
    "    total_respondents=74,\n",
    "    net_gains_from_investment=4925,\n",
    "    investment_cost=7400\n",
    ")\n"
   ]
  },
  {
   "cell_type": "code",
   "execution_count": null,
   "id": "8a083258-9ece-4ee6-b508-8fc4a9a2a900",
   "metadata": {},
   "outputs": [],
   "source": [
    "#Question 4 - Data Analysis with Pandas\n",
    "# Using a dictionary sales_data, create a DataFrame from this dictionary, and display the DataFrame.\n",
    "# Write code to calculate and print the cumulative monthly sales up to each month.\n",
    "import pandas as pd\n",
    "\n",
    "sales_data = {'Month': ['Jan', 'Feb', 'Mar', 'Apr', 'May'], 'Sales': [200, 220, 210, 240, 250]}"
   ]
  },
  {
   "cell_type": "code",
   "execution_count": 5,
   "id": "58ef25e3-2b49-4189-8fce-6eb1f4bf3be1",
   "metadata": {},
   "outputs": [
    {
     "name": "stdout",
     "output_type": "stream",
     "text": [
      "  Month  Sales\n",
      "0   Jan    200\n",
      "1   Feb    220\n",
      "2   Mar    210\n",
      "3   Apr    240\n",
      "4   May    250\n"
     ]
    }
   ],
   "source": [
    "import pandas as pd\n",
    "sales_data = {'Month': ['Jan', 'Feb', 'Mar', 'Apr', 'May'], 'Sales': [200, 220, 210, 240, 250]}\n",
    "df = pd.DataFrame(sales_data)\n",
    "print(df)"
   ]
  },
  {
   "cell_type": "code",
   "execution_count": 11,
   "id": "0a2258b9-3841-41ba-a0c7-bf0981031c8c",
   "metadata": {},
   "outputs": [
    {
     "name": "stdout",
     "output_type": "stream",
     "text": [
      "  Month  Sales  Cumulative sales\n",
      "0   Jan    200               200\n",
      "1   Feb    220               420\n",
      "2   Mar    210               630\n",
      "3   Apr    240               870\n",
      "4   May    250              1120\n"
     ]
    }
   ],
   "source": [
    "cumulative_monthly = df.copy()\n",
    "cumulative_monthly['Cumulative sales'] = df['Sales'].cumsum()\n",
    "print(cumulative_monthly)"
   ]
  },
  {
   "cell_type": "code",
   "execution_count": 13,
   "id": "d87587fe-a150-4d62-8ea9-c4c303bef2f7",
   "metadata": {},
   "outputs": [],
   "source": [
    "# Question 5 - Linear Regression for Forecasting\n",
    "# Using the dataset below, create a linear regression model to predict the demand for given prices.\n",
    "# Predict the demand if the company sets the price at £26. Show a scatter plot of the data points and plot the regression line.\n",
    "\n",
    "# Price (£): 15, 18, 20, 22, 25, 27, 30\n",
    "# Demand (Units): 200, 180, 170, 160, 150, 140, 130\n",
    "\n"
   ]
  },
  {
   "cell_type": "code",
   "execution_count": 1,
   "id": "de79c558-8c69-47ba-b8c0-f51dd3377e61",
   "metadata": {},
   "outputs": [
    {
     "data": {
      "image/png": "[encoded data removed]",
      "text/plain": [
       "<Figure size 640x480 with 1 Axes>"
      ]
     },
     "metadata": {},
     "output_type": "display_data"
    }
   ],
   "source": [
    "import matplotlib.pyplot as plt\n",
    "Price = [15,18,20,22,25,27,30]\n",
    "Demand = [200,180,170,160,150,140,130]\n",
    "plt.scatter(Price, Demand)\n",
    "plt.show()"
   ]
  },
  {
   "cell_type": "code",
   "execution_count": 7,
   "id": "bf54bca7-723d-45c6-bd06-62f3ef51d673",
   "metadata": {},
   "outputs": [
    {
     "data": {
      "image/png": "[encoded data removed]",
      "text/plain": [
       "<Figure size 640x480 with 1 Axes>"
      ]
     },
     "metadata": {},
     "output_type": "display_data"
    }
   ],
   "source": [
    "from scipy import stats\n",
    "slope, intercept, r, p, std_err = stats.linregress(Price, Demand)\n",
    "def function(Price):   \n",
    "    return slope * Price + intercept\n",
    "mymodel = list(map(function, Price))\n",
    "plt.scatter(Price, Demand)\n",
    "plt.plot(Price, mymodel)\n",
    "plt.show()"
   ]
  },
  {
   "cell_type": "code",
   "execution_count": 39,
   "id": "1b1c1262-6bcd-4c27-bca8-29980184fba1",
   "metadata": {},
   "outputs": [],
   "source": [
    "#Question 6 - Error Handling\n",
    "# You are given a dictionary of prices for different products.\n",
    "#prices = {'A': 50, 'B': 75, 'C': 'unknown', 'D': 30}\n",
    "\n",
    "# Write a function to calculate the total price of all items, handling any non-numeric values by skipping them.\n",
    "# Include error handling in your function and explain where and why it’s needed."
   ]
  },
  {
   "cell_type": "code",
   "execution_count": 47,
   "id": "ef9f75c5-6f7d-41aa-a7de-3e3e692f88d2",
   "metadata": {},
   "outputs": [
    {
     "ename": "NameError",
     "evalue": "name 'Error' is not defined",
     "output_type": "error",
     "traceback": [
      "\u001b[1;31m---------------------------------------------------------------------------\u001b[0m",
      "\u001b[1;31mNameError\u001b[0m                                 Traceback (most recent call last)",
      "Cell \u001b[1;32mIn[47], line 5\u001b[0m, in \u001b[0;36mtotal_prices\u001b[1;34m(prices)\u001b[0m\n\u001b[0;32m      4\u001b[0m \u001b[38;5;28;01mtry\u001b[39;00m:   \n\u001b[1;32m----> 5\u001b[0m     total \u001b[38;5;241m+\u001b[39m\u001b[38;5;241m=\u001b[39m \u001b[38;5;28mfloat\u001b[39m(price)\n\u001b[0;32m      6\u001b[0m \u001b[38;5;28;01mexcept\u001b[39;00m Error:   \n",
      "\u001b[1;31mNameError\u001b[0m: name 'price' is not defined",
      "\nDuring handling of the above exception, another exception occurred:\n",
      "\u001b[1;31mNameError\u001b[0m                                 Traceback (most recent call last)",
      "Cell \u001b[1;32mIn[47], line 10\u001b[0m\n\u001b[0;32m      8\u001b[0m         \u001b[38;5;28;01mreturn\u001b[39;00m total\n\u001b[0;32m      9\u001b[0m prices \u001b[38;5;241m=\u001b[39m {\u001b[38;5;124m'\u001b[39m\u001b[38;5;124mA\u001b[39m\u001b[38;5;124m'\u001b[39m: \u001b[38;5;241m50\u001b[39m, \u001b[38;5;124m'\u001b[39m\u001b[38;5;124mB\u001b[39m\u001b[38;5;124m'\u001b[39m: \u001b[38;5;241m75\u001b[39m, \u001b[38;5;124m'\u001b[39m\u001b[38;5;124mC\u001b[39m\u001b[38;5;124m'\u001b[39m: \u001b[38;5;124m'\u001b[39m\u001b[38;5;124munknown\u001b[39m\u001b[38;5;124m'\u001b[39m, \u001b[38;5;124m'\u001b[39m\u001b[38;5;124mD\u001b[39m\u001b[38;5;124m'\u001b[39m: \u001b[38;5;241m30\u001b[39m}\n\u001b[1;32m---> 10\u001b[0m \u001b[38;5;28mprint\u001b[39m(total_prices(prices))\n",
      "Cell \u001b[1;32mIn[47], line 6\u001b[0m, in \u001b[0;36mtotal_prices\u001b[1;34m(prices)\u001b[0m\n\u001b[0;32m      4\u001b[0m \u001b[38;5;28;01mtry\u001b[39;00m:   \n\u001b[0;32m      5\u001b[0m     total \u001b[38;5;241m+\u001b[39m\u001b[38;5;241m=\u001b[39m \u001b[38;5;28mfloat\u001b[39m(price)\n\u001b[1;32m----> 6\u001b[0m \u001b[38;5;28;01mexcept\u001b[39;00m Error:   \n\u001b[0;32m      7\u001b[0m     \u001b[38;5;28mprint\u001b[39m(\u001b[38;5;124m'\u001b[39m\u001b[38;5;124mskipping non numeric values\u001b[39m\u001b[38;5;124m'\u001b[39m)\n\u001b[0;32m      8\u001b[0m \u001b[38;5;28;01mreturn\u001b[39;00m total\n",
      "\u001b[1;31mNameError\u001b[0m: name 'Error' is not defined"
     ]
    }
   ],
   "source": [
    "def total_prices(prices):   \n",
    "    total = 0\n",
    "    for items, in prices:   \n",
    "        try:   \n",
    "            total += float(price)\n",
    "        except Error:   \n",
    "            print('skipping non numeric values')\n",
    "        return total\n",
    "prices = {'A': 50, 'B': 75, 'C': 'unknown', 'D': 30}\n",
    "print(total_prices(prices))"
   ]
  },
  {
   "cell_type": "code",
   "execution_count": 49,
   "id": "e0d59515-4d77-49d5-a7bb-83b0140aa3c5",
   "metadata": {},
   "outputs": [
    {
     "name": "stdout",
     "output_type": "stream",
     "text": [
      "Skipping non-numeric value for item {item}: {price}\n",
      "Total price: {total_price}\n"
     ]
    }
   ],
   "source": [
    "def calculate_total_price(prices):\n",
    "    total = 0\n",
    "    for item, price in prices.items():\n",
    "        try:\n",
    "            total += float(price)\n",
    "        except ValueError:\n",
    "            print(\"Skipping non-numeric value for item {item}: {price}\")\n",
    "    return total\n",
    "\n",
    "# Example usage\n",
    "prices = {'A': 50, 'B': 75, 'C': 'unknown', 'D': 30}\n",
    "total_price = calculate_total_price(prices)\n",
    "print(\"Total price: {total_price}\")\n"
   ]
  },
  {
   "cell_type": "code",
   "execution_count": 51,
   "id": "ee01e6db-bc1b-4e33-b43b-6a08ae226e42",
   "metadata": {},
   "outputs": [],
   "source": [
    "# Question 7 - Plotting and Visualization\n",
    "# Generate 50 random numbers between 1 and 500, then:\n",
    "# Plot a histogram to visualize the distribution of these numbers.\n",
    "# Add appropriate labels for the x-axis and y-axis, and include a title for the histogram."
   ]
  },
  {
   "cell_type": "code",
   "execution_count": 89,
   "id": "3c81b19a-e11c-470c-9ecf-55700290eac2",
   "metadata": {},
   "outputs": [
    {
     "name": "stdout",
     "output_type": "stream",
     "text": [
      "[196, 403, 63, 319, 70, 392, 417, 452, 281, 434, 377, 428, 86, 404, 255, 495, 41, 89, 432, 338, 115, 295, 232, 82, 248, 224, 44, 431, 280, 149, 202, 403, 331, 394, 340, 477, 63, 70, 81, 37, 89, 443, 161, 87, 33, 390, 308, 438, 259, 448]\n"
     ]
    },
    {
     "data": {
      "image/png": "[encoded data removed]",
      "text/plain": [
       "<Figure size 640x480 with 1 Axes>"
      ]
     },
     "metadata": {},
     "output_type": "display_data"
    }
   ],
   "source": [
    "import random\n",
    "import numpy as np\n",
    "import matplotlib.pyplot as plt\n",
    "np.random.seed(123)\n",
    "x = [random.randint(1, 500) for _ in range(50)]\n",
    "print(x)\n",
    "plt.hist(x, bins = 10, edgecolor = 'black')\n",
    "plt.xlabel('x axis')\n",
    "plt.ylabel('y axis')\n",
    "plt.show()"
   ]
  },
  {
   "cell_type": "code",
   "execution_count": 91,
   "id": "dee0b3d3-7efa-4cef-946c-48dd625b4509",
   "metadata": {},
   "outputs": [],
   "source": [
    " #Question 8 - List Comprehensions\n",
    "# Given a list of integers representing order quantities.\n",
    "#quantities = [5, 12, 9, 15, 7, 10]\n",
    "\n",
    "# Use a list comprehension to create a new list that doubles each quantity that is 10 or more.\n",
    "# Print the original and the new lists.\n",
    "\n"
   ]
  },
  {
   "cell_type": "code",
   "execution_count": 101,
   "id": "24bf87e9-645b-4c45-af60-f9ba0cc7bdeb",
   "metadata": {},
   "outputs": [
    {
     "name": "stdout",
     "output_type": "stream",
     "text": [
      "[5, 12, 9, 15, 7, 10]\n",
      "[5, 24, 9, 30, 7, 20]\n"
     ]
    }
   ],
   "source": [
    "quantities = [5, 12, 9, 15, 7, 10]\n",
    "newlist = [x * 2 if x >= 10 else x for x in quantities]\n",
    "print(quantities)\n",
    "print(newlist)"
   ]
  },
  {
   "cell_type": "code",
   "execution_count": 103,
   "id": "ccdee4f3-4012-4723-93ca-e0efe5c6d7d5",
   "metadata": {},
   "outputs": [],
   "source": [
    "# Question 9 - Dictionary Manipulation\n",
    "# Using the dictionary below, filter out the products with a rating of less than 4 and create a new dictionary with the remaining products.\n",
    "#ratings = {'product_A': 4, 'product_B': 5, 'product_C': 3, 'product_D': 2, 'product_E': 5}"
   ]
  },
  {
   "cell_type": "code",
   "execution_count": 119,
   "id": "0ae2df52-174b-48b7-9a8c-b5898e6ee09a",
   "metadata": {},
   "outputs": [
    {
     "name": "stdout",
     "output_type": "stream",
     "text": [
      "{'product_A': 4, 'product_B': 5, 'product_E': 5}\n"
     ]
    }
   ],
   "source": [
    "ratings = {'product_A': 4, 'product_B': 5, 'product_C': 3, 'product_D': 2, 'product_E': 5}\n",
    "filtered_ratings = {}\n",
    "for product, rating in ratings.items():   \n",
    "    if rating >= 4:   \n",
    "        filtered_ratings[product] = rating\n",
    "print(filtered_ratings)        \n"
   ]
  },
  {
   "cell_type": "code",
   "execution_count": 1,
   "id": "ea764093-e41d-44bc-aa9f-8e2a2b75bb46",
   "metadata": {},
   "outputs": [],
   "source": [
    "# Question 10 - Debugging and Correcting Code\n",
    "# The following code intends to calculate the average of a list of numbers, but it contains errors:\n",
    "#values = [10, 20, 30, 40, 50]\n",
    "#total = 0\n",
    "#for i in values:\n",
    " #   total = total + i\n",
    "#average = total / len(values)\n",
    "#print(\"The average is\" + average)\n",
    "\n",
    "# Identify and correct the errors in the code.\n",
    "# Comment on each error and explain your fixes.\n"
   ]
  },
  {
   "cell_type": "code",
   "execution_count": 3,
   "id": "2212e6ec-f1a3-4046-b2a6-60609b65b72e",
   "metadata": {},
   "outputs": [
    {
     "name": "stdout",
     "output_type": "stream",
     "text": [
      "The average is 30.0\n"
     ]
    }
   ],
   "source": [
    "values = [10, 20, 30, 40, 50]\n",
    "total = 0\n",
    "for i in values:\n",
    "    total = total + i\n",
    "average = total / len(values)\n",
    "print(\"The average is\", average)"
   ]
  },
  {
   "cell_type": "code",
   "execution_count": null,
   "id": "88c7aabc-6b17-4d52-b173-c283e4a6043d",
   "metadata": {},
   "outputs": [],
   "source": []
  }
 ],
 "metadata": {
  "kernelspec": {
   "display_name": "Python 3 (ipykernel)",
   "language": "python",
   "name": "python3"
  },
  "language_info": {
   "codemirror_mode": {
    "name": "ipython",
    "version": 3
   },
   "file_extension": ".py",
   "mimetype": "text/x-python",
   "name": "python",
   "nbconvert_exporter": "python",
   "pygments_lexer": "ipython3",
   "version": "3.12.4"
  }
 },
 "nbformat": 4,
 "nbformat_minor": 5
}
